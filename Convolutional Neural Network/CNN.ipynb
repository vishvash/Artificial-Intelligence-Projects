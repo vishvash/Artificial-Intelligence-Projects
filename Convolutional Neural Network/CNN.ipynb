{
  "nbformat": 4,
  "nbformat_minor": 0,
  "metadata": {
    "colab": {
      "provenance": []
    },
    "kernelspec": {
      "name": "python3",
      "display_name": "Python 3"
    },
    "language_info": {
      "name": "python"
    }
  },
  "cells": [
    {
      "cell_type": "code",
      "execution_count": 21,
      "metadata": {
        "id": "Q67C6vlEGoHi"
      },
      "outputs": [],
      "source": [
        "# Importing necessary modules from keras for building the model\n",
        "from tensorflow.keras import layers\n",
        "from tensorflow.keras import models\n"
      ]
    },
    {
      "cell_type": "code",
      "source": [
        "# Importing the CIFAR-10 dataset\n",
        "from keras.datasets import cifar10"
      ],
      "metadata": {
        "id": "MUmoItzIGtwP"
      },
      "execution_count": 2,
      "outputs": []
    },
    {
      "cell_type": "code",
      "source": [
        "# Loading the CIFAR-10 dataset\n",
        "(trainX, trainy), (testX, testy) = cifar10.load_data()\n"
      ],
      "metadata": {
        "colab": {
          "base_uri": "https://localhost:8080/"
        },
        "id": "MX_ZmoEQGts2",
        "outputId": "c3f2f0a9-d483-493a-96b2-ff1e1374e287"
      },
      "execution_count": 3,
      "outputs": [
        {
          "output_type": "stream",
          "name": "stdout",
          "text": [
            "Downloading data from https://www.cs.toronto.edu/~kriz/cifar-10-python.tar.gz\n",
            "170498071/170498071 [==============================] - 4s 0us/step\n"
          ]
        }
      ]
    },
    {
      "cell_type": "code",
      "source": [
        "# Displaying the label of the second image in the training set\n",
        "print(trainy[1])\n"
      ],
      "metadata": {
        "colab": {
          "base_uri": "https://localhost:8080/"
        },
        "id": "fVutrpBkGtp2",
        "outputId": "1ef9434d-05b1-4628-b477-5bb2d71ca19c"
      },
      "execution_count": 4,
      "outputs": [
        {
          "output_type": "stream",
          "name": "stdout",
          "text": [
            "[9]\n"
          ]
        }
      ]
    },
    {
      "cell_type": "code",
      "source": [
        "# Cloning a GitHub repository containing AI datasets\n",
        "!git clone https://github.com/sam360digitmg/AI-Datasets.git\n"
      ],
      "metadata": {
        "colab": {
          "base_uri": "https://localhost:8080/"
        },
        "id": "oT_Z0RA-G5gk",
        "outputId": "1866559c-de1c-49bc-9c61-f4542bad3c81"
      },
      "execution_count": 5,
      "outputs": [
        {
          "output_type": "stream",
          "name": "stdout",
          "text": [
            "Cloning into 'AI-Datasets'...\n",
            "remote: Enumerating objects: 33, done.\u001b[K\n",
            "remote: Counting objects: 100% (4/4), done.\u001b[K\n",
            "remote: Compressing objects: 100% (3/3), done.\u001b[K\n",
            "remote: Total 33 (delta 0), reused 3 (delta 0), pack-reused 29\u001b[K\n",
            "Receiving objects: 100% (33/33), 200.94 MiB | 30.34 MiB/s, done.\n",
            "Resolving deltas: 100% (8/8), done.\n",
            "Updating files: 100% (7/7), done.\n"
          ]
        }
      ]
    },
    {
      "cell_type": "code",
      "source": [
        "# Extracting the contents of a zip file from the cloned repository\n",
        "from zipfile import ZipFile\n",
        "file_name = \"/content/AI-Datasets/CNN/Animals.zip\"\n",
        "with ZipFile(file_name,'r') as zip:\n",
        "  zip.extractall()\n",
        "  print('Done')\n"
      ],
      "metadata": {
        "colab": {
          "base_uri": "https://localhost:8080/"
        },
        "id": "sWe505J7Gtmx",
        "outputId": "4b9a5c5f-0e29-4345-cca5-85e43457bb72"
      },
      "execution_count": 6,
      "outputs": [
        {
          "output_type": "stream",
          "name": "stdout",
          "text": [
            "Done\n"
          ]
        }
      ]
    },
    {
      "cell_type": "code",
      "source": [
        "# Setting up directories for training, validation, and test datasets\n",
        "base_dir = 'cats and dogs small'\n",
        "train_dir = 'cats and dogs small/train'\n",
        "validation_dir = 'cats and dogs small/validation'\n",
        "test_dir = 'cats and dogs small/test'\n",
        "train_cats_dir = 'cats and dogs small/train/cats'\n",
        "train_dogs_dir = 'cats and dogs small/train/dogs'\n",
        "validation_cats_dir = 'cats and dogs small/validation/cats'\n",
        "validation_dogs_dir = 'cats and dogs small/validation/dogs'\n",
        "test_cats_dir = 'cats and dogs small/test/cats'\n",
        "test_dogs_dir = 'cats and dogs small/test/dogs'\n"
      ],
      "metadata": {
        "id": "v9KF1pNVGtj8"
      },
      "execution_count": 7,
      "outputs": []
    },
    {
      "cell_type": "code",
      "source": [
        "import os"
      ],
      "metadata": {
        "id": "WV8iU3ppHM0C"
      },
      "execution_count": 9,
      "outputs": []
    },
    {
      "cell_type": "code",
      "source": [
        "# Counting the number of images in each directory\n",
        "print('total training cat images:', len(os.listdir(train_cats_dir)))\n",
        "print('total training dog images:', len(os.listdir(train_dogs_dir)))\n",
        "print('total validation cat images:', len(os.listdir(validation_cats_dir)))\n",
        "print('total validation dog images:', len(os.listdir(validation_dogs_dir)))\n",
        "print('total test cat images:', len(os.listdir(test_cats_dir)))\n",
        "print('total test dog images:', len(os.listdir(test_dogs_dir)))\n"
      ],
      "metadata": {
        "colab": {
          "base_uri": "https://localhost:8080/"
        },
        "id": "xxTUcJeGGthK",
        "outputId": "fdd1d6bb-7807-4955-f23b-af70650b555e"
      },
      "execution_count": 10,
      "outputs": [
        {
          "output_type": "stream",
          "name": "stdout",
          "text": [
            "total training cat images: 1002\n",
            "total training dog images: 1000\n",
            "total validation cat images: 500\n",
            "total validation dog images: 500\n",
            "total test cat images: 500\n",
            "total test dog images: 500\n"
          ]
        }
      ]
    },
    {
      "cell_type": "code",
      "source": [
        "# Importing necessary modules from keras for building the model\n",
        "from tensorflow.keras import layers\n",
        "from tensorflow.keras import models\n"
      ],
      "metadata": {
        "id": "sQPkc4jRGteb"
      },
      "execution_count": 11,
      "outputs": []
    },
    {
      "cell_type": "code",
      "source": [
        "# Initializing a sequential model\n",
        "model = models.Sequential()\n"
      ],
      "metadata": {
        "id": "JmyKCYIgGtbX"
      },
      "execution_count": 12,
      "outputs": []
    },
    {
      "cell_type": "code",
      "source": [
        "# Adding a 2D convolutional layer with 32 filters, a 3x3 kernel, and ReLU activation function.\n",
        "# This is the first layer so we specify the input shape which is (150, 150, 3), indicating\n",
        "# the images are 150x150 pixels with 3 channels (RGB).\n",
        "model.add(layers.Conv2D(32, (3, 3), activation='relu', input_shape=(150, 150, 3)))\n"
      ],
      "metadata": {
        "id": "x2kNaYwmHUJW"
      },
      "execution_count": 13,
      "outputs": []
    },
    {
      "cell_type": "code",
      "source": [
        "# Adding a max pooling layer to reduce the spatial dimensions of the output volume.\n",
        "model.add(layers.MaxPooling2D((2, 2)))\n"
      ],
      "metadata": {
        "id": "NjFBvZJKHVwl"
      },
      "execution_count": 14,
      "outputs": []
    },
    {
      "cell_type": "code",
      "source": [
        "# Adding another convolutional layer with 64 filters to learn more complex features.\n",
        "model.add(layers.Conv2D(64, (3, 3), activation='relu'))\n",
        "\n",
        "# Adding another max pooling layer for dimensionality reduction.\n",
        "model.add(layers.MaxPooling2D((2, 2)))\n",
        "\n",
        "# Adding a third convolutional layer with 128 filters for even more complex feature learning.\n",
        "model.add(layers.Conv2D(128, (3, 3), activation='relu'))\n",
        "\n",
        "# Adding another max pooling layer.\n",
        "model.add(layers.MaxPooling2D((2, 2)))\n",
        "\n",
        "# Adding a fourth convolutional layer with 128 filters, continuing the pattern of increasing complexity.\n",
        "model.add(layers.Conv2D(128, (3, 3), activation='relu'))\n",
        "\n",
        "# Adding the final max pooling layer.\n",
        "model.add(layers.MaxPooling2D((2, 2)))\n",
        "\n",
        "# Flattening the 3D outputs to 1D before feeding them into the densely connected layers.\n",
        "model.add(layers.Flatten())\n",
        "\n",
        "# Adding a dense layer with 512 units and ReLU activation for learning non-linear combinations of the high-level features extracted by the convolutional layers.\n",
        "model.add(layers.Dense(512, activation='relu'))\n",
        "\n",
        "# Adding the output layer with a single unit and a sigmoid activation function to classify the images into one of the two categories (cats or dogs).\n",
        "model.add(layers.Dense(1, activation='sigmoid'))"
      ],
      "metadata": {
        "id": "-TEImEWBHYjT"
      },
      "execution_count": 15,
      "outputs": []
    },
    {
      "cell_type": "code",
      "source": [
        "# Displaying the model's architecture to review the layers and parameters.\n",
        "model.summary()\n"
      ],
      "metadata": {
        "colab": {
          "base_uri": "https://localhost:8080/"
        },
        "id": "Ku2ZCrmNHZOB",
        "outputId": "adb55dff-06e3-4c2a-a63a-dfda61aed52b"
      },
      "execution_count": 16,
      "outputs": [
        {
          "output_type": "stream",
          "name": "stdout",
          "text": [
            "Model: \"sequential\"\n",
            "_________________________________________________________________\n",
            " Layer (type)                Output Shape              Param #   \n",
            "=================================================================\n",
            " conv2d (Conv2D)             (None, 148, 148, 32)      896       \n",
            "                                                                 \n",
            " max_pooling2d (MaxPooling2  (None, 74, 74, 32)        0         \n",
            " D)                                                              \n",
            "                                                                 \n",
            " conv2d_1 (Conv2D)           (None, 72, 72, 64)        18496     \n",
            "                                                                 \n",
            " max_pooling2d_1 (MaxPoolin  (None, 36, 36, 64)        0         \n",
            " g2D)                                                            \n",
            "                                                                 \n",
            " conv2d_2 (Conv2D)           (None, 34, 34, 128)       73856     \n",
            "                                                                 \n",
            " max_pooling2d_2 (MaxPoolin  (None, 17, 17, 128)       0         \n",
            " g2D)                                                            \n",
            "                                                                 \n",
            " conv2d_3 (Conv2D)           (None, 15, 15, 128)       147584    \n",
            "                                                                 \n",
            " max_pooling2d_3 (MaxPoolin  (None, 7, 7, 128)         0         \n",
            " g2D)                                                            \n",
            "                                                                 \n",
            " flatten (Flatten)           (None, 6272)              0         \n",
            "                                                                 \n",
            " dense (Dense)               (None, 512)               3211776   \n",
            "                                                                 \n",
            " dense_1 (Dense)             (None, 1)                 513       \n",
            "                                                                 \n",
            "=================================================================\n",
            "Total params: 3453121 (13.17 MB)\n",
            "Trainable params: 3453121 (13.17 MB)\n",
            "Non-trainable params: 0 (0.00 Byte)\n",
            "_________________________________________________________________\n"
          ]
        }
      ]
    },
    {
      "cell_type": "code",
      "source": [
        "# Compiling the model specifies the loss function, optimizer, and metrics to monitor.\n",
        "# Here we use binary crossentropy as the loss function, suitable for binary classification problems.\n",
        "# The RMSprop optimizer is used with a learning rate of 1e-4. Accuracy is the metric for evaluation.\n",
        "model.compile(loss='binary_crossentropy', optimizer= optimizers.RMSprop(lr=1e-4), metrics=['acc'])\n"
      ],
      "metadata": {
        "colab": {
          "base_uri": "https://localhost:8080/"
        },
        "id": "Va_qT5DLHZKf",
        "outputId": "41f6f3c9-ef92-4d10-a284-29df3f3be96b"
      },
      "execution_count": 24,
      "outputs": [
        {
          "output_type": "stream",
          "name": "stderr",
          "text": [
            "WARNING:absl:`lr` is deprecated in Keras optimizer, please use `learning_rate` or use the legacy optimizer, e.g.,tf.keras.optimizers.legacy.RMSprop.\n"
          ]
        }
      ]
    },
    {
      "cell_type": "code",
      "source": [
        "from tensorflow.keras.preprocessing.image import ImageDataGenerator\n",
        "# Setting up image data generators for augmenting training and validation images.\n",
        "# Data augmentation is a strategy to increase the diversity of the training set by applying random transformations.\n",
        "train_datagen = ImageDataGenerator(rescale=1./255, rotation_range=40, width_shift_range=0.2, height_shift_range=0.2, shear_range=0.2, zoom_range=0.2, horizontal_flip=True, fill_mode='nearest')\n",
        "\n",
        "# For validation data, we only rescale the images to match the model's expected input.\n",
        "# Note: Data augmentation is not applied to validation data.\n",
        "test_datagen = ImageDataGenerator(rescale=1./255)\n"
      ],
      "metadata": {
        "id": "TEFD32x4HZIg"
      },
      "execution_count": 26,
      "outputs": []
    },
    {
      "cell_type": "code",
      "source": [
        "# Preparing the training and validation generators by specifying paths, target sizes, batch sizes, and the classification mode as binary for our two-class problem.\n",
        "train_generator = train_datagen.flow_from_directory(train_dir, target_size=(150, 150), batch_size=20, class_mode='binary')\n",
        "validation_generator = test_datagen.flow_from_directory(validation_dir, target_size=(150, 150), batch_size=20, class_mode='binary')\n",
        "\n",
        "# Training the model using the fit_generator method. This method is suitable for handling data generated by a Python generator, as is the case with our data augmentation setup.\n",
        "# The model will train for 30 epochs, with steps per epoch and validation steps determined by the batch size and dataset size.\n",
        "history = model.fit_generator(train_generator, steps_per_epoch=100, epochs=30, validation_data=validation_generator, validation_steps=50)\n",
        "\n",
        "# Saving the trained model to disk, allowing us to load it later without needing to retrain.\n",
        "model.save('cats_and_dogs_small_1.h5')\n"
      ],
      "metadata": {
        "colab": {
          "base_uri": "https://localhost:8080/"
        },
        "id": "ZCEjunz0HZFo",
        "outputId": "4a335996-f68e-4720-fc75-8635a6930490"
      },
      "execution_count": 27,
      "outputs": [
        {
          "output_type": "stream",
          "name": "stdout",
          "text": [
            "Found 2002 images belonging to 2 classes.\n",
            "Found 1000 images belonging to 2 classes.\n"
          ]
        },
        {
          "output_type": "stream",
          "name": "stderr",
          "text": [
            "<ipython-input-27-373a3968e68e>:7: UserWarning: `Model.fit_generator` is deprecated and will be removed in a future version. Please use `Model.fit`, which supports generators.\n",
            "  history = model.fit_generator(train_generator, steps_per_epoch=100, epochs=30, validation_data=validation_generator, validation_steps=50)\n"
          ]
        },
        {
          "output_type": "stream",
          "name": "stdout",
          "text": [
            "Epoch 1/30\n",
            "100/100 [==============================] - 119s 1s/step - loss: 0.7111 - acc: 0.5131 - val_loss: 0.6936 - val_acc: 0.5000\n",
            "Epoch 2/30\n",
            "100/100 [==============================] - 114s 1s/step - loss: 0.6925 - acc: 0.5232 - val_loss: 0.6913 - val_acc: 0.5040\n",
            "Epoch 3/30\n",
            "100/100 [==============================] - 106s 1s/step - loss: 0.6880 - acc: 0.5353 - val_loss: 0.6738 - val_acc: 0.5880\n",
            "Epoch 4/30\n",
            "100/100 [==============================] - 113s 1s/step - loss: 0.6830 - acc: 0.5600 - val_loss: 0.6638 - val_acc: 0.6220\n",
            "Epoch 5/30\n",
            "100/100 [==============================] - 107s 1s/step - loss: 0.6741 - acc: 0.5938 - val_loss: 0.6793 - val_acc: 0.5490\n",
            "Epoch 6/30\n",
            "100/100 [==============================] - 114s 1s/step - loss: 0.6603 - acc: 0.6090 - val_loss: 0.6141 - val_acc: 0.6690\n",
            "Epoch 7/30\n",
            "100/100 [==============================] - 113s 1s/step - loss: 0.6539 - acc: 0.6105 - val_loss: 0.6299 - val_acc: 0.6260\n",
            "Epoch 8/30\n",
            "100/100 [==============================] - 106s 1s/step - loss: 0.6363 - acc: 0.6387 - val_loss: 0.6203 - val_acc: 0.6400\n",
            "Epoch 9/30\n",
            "100/100 [==============================] - 112s 1s/step - loss: 0.6346 - acc: 0.6393 - val_loss: 0.6096 - val_acc: 0.6770\n",
            "Epoch 10/30\n",
            "100/100 [==============================] - 108s 1s/step - loss: 0.6103 - acc: 0.6695 - val_loss: 0.6759 - val_acc: 0.6160\n",
            "Epoch 11/30\n",
            "100/100 [==============================] - 103s 1s/step - loss: 0.6246 - acc: 0.6498 - val_loss: 0.5550 - val_acc: 0.7160\n",
            "Epoch 12/30\n",
            "100/100 [==============================] - 112s 1s/step - loss: 0.5992 - acc: 0.6811 - val_loss: 0.5613 - val_acc: 0.7160\n",
            "Epoch 13/30\n",
            "100/100 [==============================] - 119s 1s/step - loss: 0.5789 - acc: 0.6983 - val_loss: 0.5525 - val_acc: 0.7340\n",
            "Epoch 14/30\n",
            "100/100 [==============================] - 103s 1s/step - loss: 0.5944 - acc: 0.6837 - val_loss: 0.5465 - val_acc: 0.7150\n",
            "Epoch 15/30\n",
            "100/100 [==============================] - 117s 1s/step - loss: 0.5828 - acc: 0.7059 - val_loss: 0.5554 - val_acc: 0.7170\n",
            "Epoch 16/30\n",
            "100/100 [==============================] - 115s 1s/step - loss: 0.5742 - acc: 0.6968 - val_loss: 0.5372 - val_acc: 0.7330\n",
            "Epoch 17/30\n",
            "100/100 [==============================] - 115s 1s/step - loss: 0.5754 - acc: 0.7099 - val_loss: 0.5561 - val_acc: 0.7120\n",
            "Epoch 18/30\n",
            "100/100 [==============================] - 117s 1s/step - loss: 0.5641 - acc: 0.7154 - val_loss: 0.7277 - val_acc: 0.6340\n",
            "Epoch 19/30\n",
            "100/100 [==============================] - 116s 1s/step - loss: 0.5566 - acc: 0.7119 - val_loss: 0.5301 - val_acc: 0.7420\n",
            "Epoch 20/30\n",
            "100/100 [==============================] - 115s 1s/step - loss: 0.5505 - acc: 0.7260 - val_loss: 0.5114 - val_acc: 0.7600\n",
            "Epoch 21/30\n",
            "100/100 [==============================] - 107s 1s/step - loss: 0.5514 - acc: 0.7235 - val_loss: 0.5730 - val_acc: 0.6800\n",
            "Epoch 22/30\n",
            "100/100 [==============================] - 115s 1s/step - loss: 0.5319 - acc: 0.7361 - val_loss: 0.5172 - val_acc: 0.7330\n",
            "Epoch 23/30\n",
            "100/100 [==============================] - 108s 1s/step - loss: 0.5527 - acc: 0.7326 - val_loss: 0.5552 - val_acc: 0.7410\n",
            "Epoch 24/30\n",
            "100/100 [==============================] - 117s 1s/step - loss: 0.5433 - acc: 0.7331 - val_loss: 0.5089 - val_acc: 0.7520\n",
            "Epoch 25/30\n",
            "100/100 [==============================] - 116s 1s/step - loss: 0.5357 - acc: 0.7397 - val_loss: 0.5245 - val_acc: 0.7330\n",
            "Epoch 26/30\n",
            "100/100 [==============================] - 110s 1s/step - loss: 0.5199 - acc: 0.7503 - val_loss: 0.5091 - val_acc: 0.7230\n",
            "Epoch 27/30\n",
            "100/100 [==============================] - 116s 1s/step - loss: 0.5244 - acc: 0.7477 - val_loss: 0.5124 - val_acc: 0.7390\n",
            "Epoch 28/30\n",
            "100/100 [==============================] - 105s 1s/step - loss: 0.5230 - acc: 0.7533 - val_loss: 0.5087 - val_acc: 0.7320\n",
            "Epoch 29/30\n",
            "100/100 [==============================] - 114s 1s/step - loss: 0.5151 - acc: 0.7573 - val_loss: 0.4833 - val_acc: 0.7720\n",
            "Epoch 30/30\n",
            "100/100 [==============================] - 115s 1s/step - loss: 0.5151 - acc: 0.7508 - val_loss: 0.5031 - val_acc: 0.7650\n"
          ]
        },
        {
          "output_type": "stream",
          "name": "stderr",
          "text": [
            "/usr/local/lib/python3.10/dist-packages/keras/src/engine/training.py:3103: UserWarning: You are saving your model as an HDF5 file via `model.save()`. This file format is considered legacy. We recommend using instead the native Keras format, e.g. `model.save('my_model.keras')`.\n",
            "  saving_api.save_model(\n"
          ]
        }
      ]
    },
    {
      "cell_type": "code",
      "source": [
        "# Plotting the training and validation accuracy and loss over epochs to visualize the learning process.\n",
        "import matplotlib.pyplot as plt\n",
        "\n",
        "acc = history.history['acc']\n",
        "val_acc = history.history['val_acc']\n",
        "loss = history.history['loss']\n",
        "val_loss = history.history['val_loss']\n",
        "epochs = range(1, len(acc) + 1)\n",
        "\n",
        "# Plotting training and validation accuracy\n",
        "plt.plot(epochs, acc, 'bo', label='Training acc')\n",
        "plt.plot(epochs, val_acc, 'b', label='Validation acc')\n",
        "plt.title('Training and validation accuracy')\n",
        "plt.legend()\n",
        "\n",
        "# Plotting training and validation loss\n",
        "plt.figure()\n",
        "plt.plot(epochs, loss, 'bo', label='Training loss')\n",
        "plt.plot(epochs, val_loss, 'b', label='Validation loss')\n",
        "plt.title('Training and validation loss')\n",
        "plt.legend()\n",
        "plt.show()\n"
      ],
      "metadata": {
        "colab": {
          "base_uri": "https://localhost:8080/",
          "height": 887
        },
        "id": "O6-oG8C9HrfE",
        "outputId": "77fad9a1-fab5-484b-d458-21e19fbecfcf"
      },
      "execution_count": 28,
      "outputs": [
        {
          "output_type": "display_data",
          "data": {
            "text/plain": [
              "<Figure size 640x480 with 1 Axes>"
            ],
            "image/png": "[encoded data removed]"
          },
          "metadata": {}
        },
        {
          "output_type": "display_data",
          "data": {
            "text/plain": [
              "<Figure size 640x480 with 1 Axes>"
            ],
            "image/png": "[encoded data removed]"
          },
          "metadata": {}
        }
      ]
    },
    {
      "cell_type": "code",
      "source": [
        "# Further demonstrating data augmentation by visualizing how random transformations are applied to a sample image.\n",
        "# This code selects a single image and generates batches of transformed images, which are then plotted.\n",
        "\n",
        "# Selecting a single image path from the training set.\n",
        "fnames = [os.path.join(train_cats_dir, fname) for fname in os.listdir(train_cats_dir)]\n",
        "img_path = fnames[3]  # Choosing one image to augment.\n",
        "\n",
        "# Loading the selected image and resizing it to 150x150 pixels.\n",
        "img = image.load_img(img_path, target_size=(150, 150))\n",
        "x = image.img_to_array(img)  # Converting the image to a numpy array.\n",
        "x = x.reshape((1,) + x.shape)  # Reshaping the image to (1, 150, 150, 3) to fit the model's expected input.\n",
        "\n",
        "# Generating batches of randomly transformed images.\n",
        "i = 0\n",
        "for batch in datagen.flow(x, batch_size=1):\n",
        "    plt.figure(i)\n",
        "    imgplot = plt.imshow(image.array_to_img(batch[0]))\n",
        "    i += 1\n",
        "    if i % 4 == 0:\n",
        "        break\n",
        "plt.show()\n"
      ],
      "metadata": {
        "colab": {
          "base_uri": "https://localhost:8080/",
          "height": 211
        },
        "id": "V6pSRIBrHv9W",
        "outputId": "52e493bf-a51a-4420-c7b2-bf9457e0038b"
      },
      "execution_count": 31,
      "outputs": [
        {
          "output_type": "error",
          "ename": "NameError",
          "evalue": "name 'image' is not defined",
          "traceback": [
            "\u001b[0;31m---------------------------------------------------------------------------\u001b[0m",
            "\u001b[0;31mNameError\u001b[0m                                 Traceback (most recent call last)",
            "\u001b[0;32m<ipython-input-31-db4584c2f78a>\u001b[0m in \u001b[0;36m<cell line: 9>\u001b[0;34m()\u001b[0m\n\u001b[1;32m      7\u001b[0m \u001b[0;34m\u001b[0m\u001b[0m\n\u001b[1;32m      8\u001b[0m \u001b[0;31m# Loading the selected image and resizing it to 150x150 pixels.\u001b[0m\u001b[0;34m\u001b[0m\u001b[0;34m\u001b[0m\u001b[0m\n\u001b[0;32m----> 9\u001b[0;31m \u001b[0mimg\u001b[0m \u001b[0;34m=\u001b[0m \u001b[0mimage\u001b[0m\u001b[0;34m.\u001b[0m\u001b[0mload_img\u001b[0m\u001b[0;34m(\u001b[0m\u001b[0mimg_path\u001b[0m\u001b[0;34m,\u001b[0m \u001b[0mtarget_size\u001b[0m\u001b[0;34m=\u001b[0m\u001b[0;34m(\u001b[0m\u001b[0;36m150\u001b[0m\u001b[0;34m,\u001b[0m \u001b[0;36m150\u001b[0m\u001b[0;34m)\u001b[0m\u001b[0;34m)\u001b[0m\u001b[0;34m\u001b[0m\u001b[0;34m\u001b[0m\u001b[0m\n\u001b[0m\u001b[1;32m     10\u001b[0m \u001b[0mx\u001b[0m \u001b[0;34m=\u001b[0m \u001b[0mimage\u001b[0m\u001b[0;34m.\u001b[0m\u001b[0mimg_to_array\u001b[0m\u001b[0;34m(\u001b[0m\u001b[0mimg\u001b[0m\u001b[0;34m)\u001b[0m  \u001b[0;31m# Converting the image to a numpy array.\u001b[0m\u001b[0;34m\u001b[0m\u001b[0;34m\u001b[0m\u001b[0m\n\u001b[1;32m     11\u001b[0m \u001b[0mx\u001b[0m \u001b[0;34m=\u001b[0m \u001b[0mx\u001b[0m\u001b[0;34m.\u001b[0m\u001b[0mreshape\u001b[0m\u001b[0;34m(\u001b[0m\u001b[0;34m(\u001b[0m\u001b[0;36m1\u001b[0m\u001b[0;34m,\u001b[0m\u001b[0;34m)\u001b[0m \u001b[0;34m+\u001b[0m \u001b[0mx\u001b[0m\u001b[0;34m.\u001b[0m\u001b[0mshape\u001b[0m\u001b[0;34m)\u001b[0m  \u001b[0;31m# Reshaping the image to (1, 150, 150, 3) to fit the model's expected input.\u001b[0m\u001b[0;34m\u001b[0m\u001b[0;34m\u001b[0m\u001b[0m\n",
            "\u001b[0;31mNameError\u001b[0m: name 'image' is not defined"
          ]
        }
      ]
    },
    {
      "cell_type": "code",
      "source": [
        "# Leveraging a pretrained model (VGG16) trained on ImageNet to improve the performance of our model on the dataset.\n",
        "from tensorflow.keras.applications import VGG16\n",
        "\n",
        "# Loading the VGG16 model pretrained weights, excluding the top (fully connected) layers.\n",
        "# include_top=False means we do not include the densely connected classifier on top; only the convolutional base.\n",
        "conv_base = VGG16(weights='imagenet', include_top=False, input_shape=(150, 150, 3))\n"
      ],
      "metadata": {
        "colab": {
          "base_uri": "https://localhost:8080/"
        },
        "id": "rpvcUqvIHyLf",
        "outputId": "d8e09e68-20b1-4ca5-bdbe-11221e167467"
      },
      "execution_count": 32,
      "outputs": [
        {
          "output_type": "stream",
          "name": "stdout",
          "text": [
            "Downloading data from https://storage.googleapis.com/tensorflow/keras-applications/vgg16/vgg16_weights_tf_dim_ordering_tf_kernels_notop.h5\n",
            "58889256/58889256 [==============================] - 1s 0us/step\n"
          ]
        }
      ]
    },
    {
      "cell_type": "code",
      "source": [
        "# Displaying the architecture of the convolutional base.\n",
        "conv_base.summary()\n"
      ],
      "metadata": {
        "colab": {
          "base_uri": "https://localhost:8080/"
        },
        "id": "2Gv6Wn9hH0QA",
        "outputId": "55299a5b-34e8-4bf0-e3af-2ca2a5e4221d"
      },
      "execution_count": 33,
      "outputs": [
        {
          "output_type": "stream",
          "name": "stdout",
          "text": [
            "Model: \"vgg16\"\n",
            "_________________________________________________________________\n",
            " Layer (type)                Output Shape              Param #   \n",
            "=================================================================\n",
            " input_1 (InputLayer)        [(None, 150, 150, 3)]     0         \n",
            "                                                                 \n",
            " block1_conv1 (Conv2D)       (None, 150, 150, 64)      1792      \n",
            "                                                                 \n",
            " block1_conv2 (Conv2D)       (None, 150, 150, 64)      36928     \n",
            "                                                                 \n",
            " block1_pool (MaxPooling2D)  (None, 75, 75, 64)        0         \n",
            "                                                                 \n",
            " block2_conv1 (Conv2D)       (None, 75, 75, 128)       73856     \n",
            "                                                                 \n",
            " block2_conv2 (Conv2D)       (None, 75, 75, 128)       147584    \n",
            "                                                                 \n",
            " block2_pool (MaxPooling2D)  (None, 37, 37, 128)       0         \n",
            "                                                                 \n",
            " block3_conv1 (Conv2D)       (None, 37, 37, 256)       295168    \n",
            "                                                                 \n",
            " block3_conv2 (Conv2D)       (None, 37, 37, 256)       590080    \n",
            "                                                                 \n",
            " block3_conv3 (Conv2D)       (None, 37, 37, 256)       590080    \n",
            "                                                                 \n",
            " block3_pool (MaxPooling2D)  (None, 18, 18, 256)       0         \n",
            "                                                                 \n",
            " block4_conv1 (Conv2D)       (None, 18, 18, 512)       1180160   \n",
            "                                                                 \n",
            " block4_conv2 (Conv2D)       (None, 18, 18, 512)       2359808   \n",
            "                                                                 \n",
            " block4_conv3 (Conv2D)       (None, 18, 18, 512)       2359808   \n",
            "                                                                 \n",
            " block4_pool (MaxPooling2D)  (None, 9, 9, 512)         0         \n",
            "                                                                 \n",
            " block5_conv1 (Conv2D)       (None, 9, 9, 512)         2359808   \n",
            "                                                                 \n",
            " block5_conv2 (Conv2D)       (None, 9, 9, 512)         2359808   \n",
            "                                                                 \n",
            " block5_conv3 (Conv2D)       (None, 9, 9, 512)         2359808   \n",
            "                                                                 \n",
            " block5_pool (MaxPooling2D)  (None, 4, 4, 512)         0         \n",
            "                                                                 \n",
            "=================================================================\n",
            "Total params: 14714688 (56.13 MB)\n",
            "Trainable params: 14714688 (56.13 MB)\n",
            "Non-trainable params: 0 (0.00 Byte)\n",
            "_________________________________________________________________\n"
          ]
        }
      ]
    },
    {
      "cell_type": "code",
      "source": [
        "# Freezing the convolutional base before compiling and training the model to prevent the pretrained weights from being updated during training.\n",
        "conv_base.trainable = False\n",
        "\n"
      ],
      "metadata": {
        "id": "3ISe8IuUH2zQ"
      },
      "execution_count": 34,
      "outputs": []
    },
    {
      "cell_type": "code",
      "source": [
        "# Adding the VGG16 base to our model and adding a new classifier on top.\n",
        "model = models.Sequential()\n",
        "model.add(conv_base)\n",
        "model.add(layers.Flatten())  # Flattening the output layer to feed it into the fully connected layers.\n",
        "model.add(layers.Dense(256, activation='relu'))\n",
        "model.add(layers.Dense(1, activation='sigmoid'))  # Classifier layer for binary classification.\n",
        "\n"
      ],
      "metadata": {
        "id": "iOfQwdcBH2wx"
      },
      "execution_count": 35,
      "outputs": []
    },
    {
      "cell_type": "code",
      "source": [
        "# Displaying the new model summary to verify the architecture.\n",
        "model.summary()"
      ],
      "metadata": {
        "colab": {
          "base_uri": "https://localhost:8080/"
        },
        "id": "llHMPw3hH2uC",
        "outputId": "212a5fe4-94ba-4443-959b-1dba7307b7fa"
      },
      "execution_count": 36,
      "outputs": [
        {
          "output_type": "stream",
          "name": "stdout",
          "text": [
            "Model: \"sequential_1\"\n",
            "_________________________________________________________________\n",
            " Layer (type)                Output Shape              Param #   \n",
            "=================================================================\n",
            " vgg16 (Functional)          (None, 4, 4, 512)         14714688  \n",
            "                                                                 \n",
            " flatten_1 (Flatten)         (None, 8192)              0         \n",
            "                                                                 \n",
            " dense_2 (Dense)             (None, 256)               2097408   \n",
            "                                                                 \n",
            " dense_3 (Dense)             (None, 1)                 257       \n",
            "                                                                 \n",
            "=================================================================\n",
            "Total params: 16812353 (64.13 MB)\n",
            "Trainable params: 2097665 (8.00 MB)\n",
            "Non-trainable params: 14714688 (56.13 MB)\n",
            "_________________________________________________________________\n"
          ]
        }
      ]
    },
    {
      "cell_type": "code",
      "source": [
        "# Compiling and training the model as before, using binary_crossentropy loss and the RMSprop optimizer.\n",
        "# The model is then evaluated on a test set to assess its performance.\n",
        "\n",
        "# After adding a new classifier on top of the conv_base, we'll now fine-tune the model.\n",
        "# Fine-tuning involves unfreezing a few of the top layers of a frozen model base and jointly training both the newly added part of the model (in this case, the fully connected classifier) and these top layers.\n",
        "\n",
        "# First, we'll make the convolutional base trainable.\n",
        "conv_base.trainable = True"
      ],
      "metadata": {
        "id": "FJkVqw-fH2rh"
      },
      "execution_count": 37,
      "outputs": []
    },
    {
      "cell_type": "code",
      "source": [
        "# Specifying the number of layers to freeze. Layers before this will not be trained.\n",
        "set_trainable = False\n",
        "for layer in conv_base.layers:\n",
        "    if layer.name == 'block5_conv1':  # This is the first layer we want to train.\n",
        "        set_trainable = True\n",
        "    if set_trainable:\n",
        "        layer.trainable = True\n",
        "    else:\n",
        "        layer.trainable = False"
      ],
      "metadata": {
        "id": "o6smniNzH2mT"
      },
      "execution_count": 38,
      "outputs": []
    },
    {
      "cell_type": "code",
      "source": [
        "# Using a very low learning rate to limit the magnitude of modifications to the representations of the three blocks being fine-tuned.\n",
        "model.compile(loss='binary_crossentropy',\n",
        "              optimizer=optimizers.RMSprop(lr=1e-5),\n",
        "              metrics=['acc'])\n",
        "\n",
        "# Continuing the training process. Now, the fine-tuning of the last convolutional block of VGG16 along with the classifier will occur.\n",
        "history = model.fit_generator(train_generator,\n",
        "                              steps_per_epoch=100,\n",
        "                              epochs=10,\n",
        "                              validation_data=validation_generator,\n",
        "                              validation_steps=50)\n"
      ],
      "metadata": {
        "colab": {
          "base_uri": "https://localhost:8080/"
        },
        "id": "jGF1kj5SH_96",
        "outputId": "2f6d7c8c-c169-4d7c-f4f3-777d11324d53"
      },
      "execution_count": null,
      "outputs": [
        {
          "output_type": "stream",
          "name": "stderr",
          "text": [
            "WARNING:absl:`lr` is deprecated in Keras optimizer, please use `learning_rate` or use the legacy optimizer, e.g.,tf.keras.optimizers.legacy.RMSprop.\n",
            "<ipython-input-40-f9b733eae397>:7: UserWarning: `Model.fit_generator` is deprecated and will be removed in a future version. Please use `Model.fit`, which supports generators.\n",
            "  history = model.fit_generator(train_generator,\n"
          ]
        },
        {
          "output_type": "stream",
          "name": "stdout",
          "text": [
            "Epoch 1/10\n",
            " 15/100 [===>..........................] - ETA: 7:48 - loss: 3.6590 - acc: 0.5067"
          ]
        }
      ]
    },
    {
      "cell_type": "code",
      "source": [
        "# To make it easier to see trends, we apply a smoothing function to the plots of training/validation accuracy and loss.\n",
        "\n",
        "def smooth_curve(points, factor=0.8):\n",
        "    \"\"\"A simple utility function to smooth the plots by applying exponential moving average to the data points.\"\"\"\n",
        "    smoothed_points = []\n",
        "    for point in points:\n",
        "        if smoothed_points:\n",
        "            previous = smoothed_points[-1]\n",
        "            smoothed_points.append(previous * factor + point * (1 - factor))\n",
        "        else:\n",
        "            smoothed_points.append(point)\n",
        "    return smoothed_points\n",
        "\n",
        "# Smoothing the accuracy and loss plots.\n",
        "plt.plot(epochs, smooth_curve(acc), 'bo', label='Smoothed training acc')\n",
        "plt.plot(epochs, smooth_curve(val_acc), 'b', label='Smoothed validation acc')\n",
        "plt.title('Training and validation accuracy')\n",
        "plt.legend()\n",
        "plt.figure()\n",
        "plt.plot(epochs, smooth_curve(loss), 'bo', label='Smoothed training loss')\n",
        "plt.plot(epochs, smooth_curve(val_loss), 'b', label='Smoothed validation loss')\n",
        "plt.title('Training and validation loss')\n",
        "plt.legend()\n",
        "plt.show()"
      ],
      "metadata": {
        "id": "xRVPLYBhH_6Y"
      },
      "execution_count": null,
      "outputs": []
    },
    {
      "cell_type": "code",
      "source": [
        "# To evaluate the final model's performance, we use our test dataset, which the model has never seen during training or validation.\n",
        "\n",
        "test_generator = test_datagen.flow_from_directory(\n",
        "    test_dir,\n",
        "    target_size=(150, 150),\n",
        "    batch_size=20,\n",
        "    class_mode='binary')\n",
        "\n",
        "# Evaluating the model on the test set.\n",
        "test_loss, test_acc = model.evaluate_generator(test_generator, steps=50)\n",
        "print('test acc:', test_acc)\n"
      ],
      "metadata": {
        "id": "PeUnOZfbH_3y"
      },
      "execution_count": null,
      "outputs": []
    },
    {
      "cell_type": "code",
      "source": [
        "# Understanding how a model internally represents the input data can give insights into how the model \"sees\" the world.\n",
        "# We will visualize the activations of the different layers of our model.\n",
        "\n",
        "from tensorflow.keras.models import load_model\n",
        "model = load_model('cats_and_dogs_small_1.h5')  # Loading the saved model.\n",
        "\n",
        "# Preprocessing a single image.\n",
        "img_path = os.path.join(test_cats_dir, 'cat.1510.jpg')\n",
        "img = image.load_img(img_path, target_size=(150, 150))\n",
        "img_tensor = image.img_to_array(img)\n",
        "img_tensor = np.expand_dims(img_tensor, axis=0)  # Image tensor with shape (1, 150, 150, 3).\n",
        "img_tensor /= 255.  # Remember that the model was trained on inputs that were normalized.\n",
        "\n",
        "# Displaying the test image.\n",
        "plt.imshow(img_tensor[0])\n",
        "plt.show()"
      ],
      "metadata": {
        "id": "5M0w7DiYH_06"
      },
      "execution_count": null,
      "outputs": []
    },
    {
      "cell_type": "code",
      "source": [
        "# Extracting the outputs of the top 8 layers.\n",
        "layer_outputs = [layer.output for layer in model.layers[:8]]\n",
        "# Creating a model that will return these outputs, given the model input.\n",
        "activation_model = models.Model(inputs=model.input, outputs=layer_outputs)\n",
        "\n",
        "# When fed an image input, this model returns the values of the layer activations.\n",
        "activations = activation_model.predict(img_tensor)\n",
        "\n",
        "# Visualizing the fourth channel of the first activation.\n",
        "first_layer_activation = activations[0]\n",
        "plt.matshow(first_layer_activation[0, :, :, 4], cmap='viridis')\n",
        "\n",
        "# Looping over the layers to visualize every channel in every intermediate activation.\n",
        "for layer_name, layer_activation in zip(layer_names, activations):  # Names of the layers, so you can have them as part of your plot.\n",
        "    n_features = layer_activation.shape[-1]  # Number of features in the feature map.\n",
        "    size = layer_activation.shape[1]  #The feature map has shape (1, size, size, n_features).\n",
        "\n",
        "    # Tiles the activation channels in this matrix.\n",
        "    n_cols = n_features // images_per_row\n",
        "    display_grid = np.zeros((size * n_cols, images_per_row * size))\n",
        "\n",
        "    for col in range(n_cols):\n",
        "        for row in range(images_per_row):\n",
        "            channel_image = layer_activation[0, :, :, col * images_per_row + row]\n",
        "\n",
        "            # Processing the feature to make it visually palatable.\n",
        "            channel_image -= channel_image.mean()\n",
        "            channel_image /= channel_image.std()\n",
        "            channel_image *= 64\n",
        "            channel_image += 128\n",
        "            channel_image = np.clip(channel_image, 0, 255).astype('uint8')\n",
        "            display_grid[col * size : (col + 1) * size, row * size : (row + 1) * size] = channel_image\n",
        "\n",
        "    # Displaying the grid.\n",
        "    scale = 1. / size\n",
        "    plt.figure(figsize=(scale * display_grid.shape[1], scale * display_grid.shape[0]))\n",
        "    plt.title(layer_name)\n",
        "    plt.grid(False)\n",
        "    plt.imshow(display_grid, aspect='auto', cmap='viridis')"
      ],
      "metadata": {
        "id": "Mx-Z4VxHH_yW"
      },
      "execution_count": null,
      "outputs": []
    },
    {
      "cell_type": "code",
      "source": [],
      "metadata": {
        "id": "igQVM-2RH_vQ"
      },
      "execution_count": null,
      "outputs": []
    }
  ]
}