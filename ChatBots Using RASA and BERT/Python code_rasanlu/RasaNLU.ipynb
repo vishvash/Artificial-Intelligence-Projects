{
  "nbformat": 4,
  "nbformat_minor": 0,
  "metadata": {
    "colab": {
      "name": "RasaNLU.ipynb",
      "provenance": []
    },
    "kernelspec": {
      "name": "python3",
      "display_name": "Python 3"
    },
    "language_info": {
      "name": "python"
    }
  },
  "cells": [
    {
      "cell_type": "code",
      "metadata": {
        "colab": {
          "base_uri": "https://localhost:8080/"
        },
        "id": "8dc_pU-ZxRTu",
        "outputId": "6fc5485e-c739-471e-d1c3-af47bd10c5ea"
      },
      "source": [
        "!pip install nltk"
      ],
      "execution_count": null,
      "outputs": [
        {
          "output_type": "stream",
          "text": [
            "Requirement already satisfied: nltk in /usr/local/lib/python3.7/dist-packages (3.2.5)\n",
            "Requirement already satisfied: six in /usr/local/lib/python3.7/dist-packages (from nltk) (1.15.0)\n"
          ],
          "name": "stdout"
        }
      ]
    },
    {
      "cell_type": "code",
      "metadata": {
        "id": "e1L7jj7AxXiI"
      },
      "source": [
        "!pip install rasa"
      ],
      "execution_count": null,
      "outputs": []
    },
    {
      "cell_type": "code",
      "metadata": {
        "id": "D4bH1s3mzJbf"
      },
      "source": [
        "from nltk.chat.util import Chat, reflections"
      ],
      "execution_count": null,
      "outputs": []
    },
    {
      "cell_type": "code",
      "metadata": {
        "id": "zlj-e5Q4zjeB"
      },
      "source": [
        "pairs = [[r\".*hi|hello|hey|what's up.*\", [\"Hello, I am a simple chatbot. How are you?\"]],\n",
        "         [r\".*(how are you|and you).*\", [\"Doing well, thank you.\",\"I'm ok, what's new?\"]],\n",
        "         [r\"quit\", [\"Bye, nice talking to you!\", \"Talk to you later!\"]],\n",
        "         [r\".*weather|rain|snow|sun.*\", [\"Isn't it nice out today?\", \"Hopefully, tomorrow the weather will get better.\",\"I don't know about you, but I am glad I am inside today.\"]],\n",
        "         [r\"I like (.*)\", [\"Why do you like %1?\", \"What about %1 do you like?\"]],\n",
        "         [r\".*(tasty).*\", [\"Yeah, I think so too.\"]],\n",
        "         [r\".*\", [\"I am sorry, I don't understand. I am a very simple chatbot!\"]]\n",
        "         ]"
      ],
      "execution_count": null,
      "outputs": []
    },
    {
      "cell_type": "code",
      "metadata": {
        "id": "SjxbhApJ1OUA"
      },
      "source": [
        "chatbot = Chat(pairs, reflections)"
      ],
      "execution_count": null,
      "outputs": []
    },
    {
      "cell_type": "code",
      "metadata": {
        "id": "TJxPrTfA1QrK",
        "colab": {
          "base_uri": "https://localhost:8080/"
        },
        "outputId": "aebaabc0-f9e8-4047-a3b0-f1230b4b68d7"
      },
      "source": [
        "chatbot.converse()"
      ],
      "execution_count": null,
      "outputs": [
        {
          "output_type": "stream",
          "text": [
            ">hello\n",
            "Hello, I am a simple chatbot. How are you?\n",
            ">good & u\n",
            "I am sorry, I don't understand. I am a very simple chatbot!\n",
            ">good and you?\n",
            "I'm ok, what's new?\n",
            ">I like pizza\n",
            "Why do you like pizza?\n",
            ">Its tasty\n",
            "Yeah, I think so too.\n",
            ">How r u?\n",
            "I am sorry, I don't understand. I am a very simple chatbot!\n",
            ">quit\n",
            "Talk to you later!\n"
          ],
          "name": "stdout"
        }
      ]
    },
    {
      "cell_type": "code",
      "metadata": {
        "id": "JimRuMD017ZT"
      },
      "source": [
        "from nltk.chat.eliza import eliza_chat"
      ],
      "execution_count": null,
      "outputs": []
    },
    {
      "cell_type": "code",
      "metadata": {
        "id": "Dph8zk7j1_d8",
        "colab": {
          "base_uri": "https://localhost:8080/"
        },
        "outputId": "7f27ba8d-047e-41cf-a830-9be4a76b56e4"
      },
      "source": [
        "eliza_chat()"
      ],
      "execution_count": null,
      "outputs": [
        {
          "output_type": "stream",
          "text": [
            "Therapist\n",
            "---------\n",
            "Talk to the program by typing in plain English, using normal upper-\n",
            "and lower-case letters and punctuation.  Enter \"quit\" when done.\n",
            "========================================================================\n",
            "Hello.  How are you feeling today?\n",
            ">good\n",
            "How do you feel when you say that?\n",
            ">happy\n",
            "I see.\n",
            ">quit\n",
            "Thank you for talking with me.\n"
          ],
          "name": "stdout"
        }
      ]
    },
    {
      "cell_type": "code",
      "metadata": {
        "id": "TnEvuMmB2LnB",
        "colab": {
          "base_uri": "https://localhost:8080/",
          "height": 1000
        },
        "outputId": "0e1efb34-afaf-4387-9243-ef06cce7117e"
      },
      "source": [
        "!pip install rasa"
      ],
      "execution_count": null,
      "outputs": [
        {
          "output_type": "stream",
          "text": [
            "Collecting rasa\n",
            "\u001b[?25l  Downloading https://files.pythonhosted.org/packages/ce/63/fb5206a576a004ed0567a531f0d4032c7b88b273d25c41d2e4fe6d7c152e/rasa-2.4.3-py3-none-any.whl (707kB)\n",
            "\u001b[K     |████████████████████████████████| 716kB 5.3MB/s \n",
            "\u001b[?25hCollecting twilio<6.51,>=6.26\n",
            "\u001b[?25l  Downloading https://files.pythonhosted.org/packages/e9/0e/d54630e6daae43dd74d44a94f52d1072b5332c374d699938d7d1db20a54c/twilio-6.50.1.tar.gz (457kB)\n",
            "\u001b[K     |████████████████████████████████| 460kB 42.4MB/s \n",
            "\u001b[?25hCollecting pymongo[srv,tls]<3.11,>=3.8\n",
            "\u001b[?25l  Downloading https://files.pythonhosted.org/packages/2f/e2/91a313e50adcf35182e260d65cf7ec60f6f0367abefc2fbab264e6f4544d/pymongo-3.10.1-cp37-cp37m-manylinux2014_x86_64.whl (462kB)\n",
            "\u001b[K     |████████████████████████████████| 471kB 43.3MB/s \n",
            "\u001b[?25hCollecting tensorflow-probability<0.12,>=0.11\n",
            "\u001b[?25l  Downloading https://files.pythonhosted.org/packages/b3/99/07d4220b021a5d6f6b3de8872f2a634389ad224f8508258452e57aaaf328/tensorflow_probability-0.11.1-py2.py3-none-any.whl (4.3MB)\n",
            "\u001b[K     |████████████████████████████████| 4.3MB 35.6MB/s \n",
            "\u001b[?25hCollecting PyJWT[crypto]<3.0.0,>=2.0.0\n",
            "  Downloading https://files.pythonhosted.org/packages/b4/9b/8850f99027ed029af6828199cc87179eaccbbf1f9e6e373e7f0177d32dad/PyJWT-2.0.1-py3-none-any.whl\n",
            "Collecting coloredlogs<15,>=10\n",
            "\u001b[?25l  Downloading https://files.pythonhosted.org/packages/f3/56/c11e7ef34316b22db4e6d1b9de6e54f332243b72ce63eab676f87744d5ad/coloredlogs-14.3-py2.py3-none-any.whl (44kB)\n",
            "\u001b[K     |████████████████████████████████| 51kB 5.5MB/s \n",
            "\u001b[?25hCollecting joblib<0.16.0,>=0.15.1\n",
            "\u001b[?25l  Downloading https://files.pythonhosted.org/packages/b8/a6/d1a816b89aa1e9e96bcb298eb1ee1854f21662ebc6d55ffa3d7b3b50122b/joblib-0.15.1-py3-none-any.whl (298kB)\n",
            "\u001b[K     |████████████████████████████████| 307kB 42.3MB/s \n",
            "\u001b[?25hCollecting pykwalify<1.9,>=1.7\n",
            "  Downloading https://files.pythonhosted.org/packages/1f/fd/ac2161cce19fd67a18c269073f8e86292b5511acec6f8ef6eab88615d032/pykwalify-1.8.0-py2.py3-none-any.whl\n",
            "Collecting sentry-sdk<0.20.0,>=0.17.0\n",
            "\u001b[?25l  Downloading https://files.pythonhosted.org/packages/b1/5c/018bf9a5c24343a664deaea70e61f33f53bb1bd3caf193110f827bfd07e2/sentry_sdk-0.19.5-py2.py3-none-any.whl (128kB)\n",
            "\u001b[K     |████████████████████████████████| 133kB 48.5MB/s \n",
            "\u001b[?25hCollecting aio-pika<7.0.0,>=6.7.1\n",
            "\u001b[?25l  Downloading https://files.pythonhosted.org/packages/f3/57/f32b28c40fc9eb34abdfc0d3a0f6dbe2c9ba7736279fafa14db09ee249ee/aio_pika-6.8.0-py3-none-any.whl (42kB)\n",
            "\u001b[K     |████████████████████████████████| 51kB 5.1MB/s \n",
            "\u001b[?25hRequirement already satisfied: async_generator<1.11,>=1.10 in /usr/local/lib/python3.7/dist-packages (from rasa) (1.10)\n",
            "Collecting ruamel.yaml<0.17.0,>=0.16.5\n",
            "\u001b[?25l  Downloading https://files.pythonhosted.org/packages/ed/c3/4c823dac2949a6baf36a4987d04c50d30184147393ba6f4bfb4c67d15a13/ruamel.yaml-0.16.13-py2.py3-none-any.whl (111kB)\n",
            "\u001b[K     |████████████████████████████████| 112kB 53.0MB/s \n",
            "\u001b[?25hCollecting slackclient<3.0.0,>=2.0.0\n",
            "\u001b[?25l  Downloading https://files.pythonhosted.org/packages/ed/27/de9ce989d0964518152e1a164b08971c77a173b051a153e50220f1a963d9/slackclient-2.9.3-py2.py3-none-any.whl (96kB)\n",
            "\u001b[K     |████████████████████████████████| 102kB 8.4MB/s \n",
            "\u001b[?25hCollecting redis<4.0,>=3.4\n",
            "\u001b[?25l  Downloading https://files.pythonhosted.org/packages/a7/7c/24fb0511df653cf1a5d938d8f5d19802a88cef255706fdda242ff97e91b7/redis-3.5.3-py2.py3-none-any.whl (72kB)\n",
            "\u001b[K     |████████████████████████████████| 81kB 7.0MB/s \n",
            "\u001b[?25hRequirement already satisfied: oauth2client==4.1.3 in /usr/local/lib/python3.7/dist-packages (from rasa) (4.1.3)\n",
            "Collecting sanic<21.0.0,>=19.12.2\n",
            "\u001b[?25l  Downloading https://files.pythonhosted.org/packages/7b/c7/7e14ef09bcab14d1c56a4261e65a983ac72efa3fd81d109cf2120a15c793/sanic-20.12.3-py3-none-any.whl (80kB)\n",
            "\u001b[K     |████████████████████████████████| 81kB 8.4MB/s \n",
            "\u001b[?25hRequirement already satisfied: setuptools>=41.0.0 in /usr/local/lib/python3.7/dist-packages (from rasa) (54.2.0)\n",
            "Collecting tensorflow-addons<=0.12,>=0.10\n",
            "\u001b[?25l  Downloading https://files.pythonhosted.org/packages/ad/ff/51d85f54096456bc0b56aa99a2f4da430d5fc514e7e13704a068803d2316/tensorflow_addons-0.12.0-cp37-cp37m-manylinux2010_x86_64.whl (703kB)\n",
            "\u001b[K     |████████████████████████████████| 706kB 42.4MB/s \n",
            "\u001b[?25hCollecting ujson<5.0,>=1.35\n",
            "\u001b[?25l  Downloading https://files.pythonhosted.org/packages/17/4e/50e8e4cf5f00b537095711c2c86ac4d7191aed2b4fffd5a19f06898f6929/ujson-4.0.2-cp37-cp37m-manylinux1_x86_64.whl (179kB)\n",
            "\u001b[K     |████████████████████████████████| 184kB 31.0MB/s \n",
            "\u001b[?25hCollecting python-engineio<3.14,>=3.11\n",
            "\u001b[?25l  Downloading https://files.pythonhosted.org/packages/4a/b0/602e549c6d735eb487f186b35e0b82e61c89459f57d1c24d5c7be6f56d05/python_engineio-3.13.2-py2.py3-none-any.whl (50kB)\n",
            "\u001b[K     |████████████████████████████████| 51kB 4.9MB/s \n",
            "\u001b[?25hCollecting sanic-jwt<2.0,>=1.3.2\n",
            "  Downloading https://files.pythonhosted.org/packages/99/13/700ec275cace4448735e425fd41f135225d0a7be3926c0cddc74757ee8da/sanic-jwt-1.6.0.tar.gz\n",
            "Collecting pytz<2021.0,>=2019.1\n",
            "\u001b[?25l  Downloading https://files.pythonhosted.org/packages/89/06/2c2d3034b4d6bf22f2a4ae546d16925898658a33b4400cfb7e2c1e2871a3/pytz-2020.5-py2.py3-none-any.whl (510kB)\n",
            "\u001b[K     |████████████████████████████████| 512kB 34.5MB/s \n",
            "\u001b[?25hRequirement already satisfied: attrs<20.4,>=19.3 in /usr/local/lib/python3.7/dist-packages (from rasa) (20.3.0)\n",
            "Collecting rasa-sdk<3.0.0,>=2.4.0\n",
            "\u001b[?25l  Downloading https://files.pythonhosted.org/packages/04/aa/9aab485acf532f65b8e40e0c2ae04a93e9d7db448510f712cc2c18c4fe58/rasa_sdk-2.4.1-py3-none-any.whl (43kB)\n",
            "\u001b[K     |████████████████████████████████| 51kB 5.6MB/s \n",
            "\u001b[?25hCollecting colorhash<1.1.0,>=1.0.2\n",
            "  Downloading https://files.pythonhosted.org/packages/ce/73/e867cd41ab0c15b26f89b0382527e525a2bee8f80ef7ac619fbe16f6ece6/colorhash-1.0.3-py3-none-any.whl\n",
            "Collecting tensorflow-text<2.4,>=2.3; sys_platform != \"win32\"\n",
            "\u001b[?25l  Downloading https://files.pythonhosted.org/packages/20/07/af34964fe4769fcd8258e78c778445a87e009c41ce6bedea451736b4ff3e/tensorflow_text-2.3.0-cp37-cp37m-manylinux1_x86_64.whl (2.6MB)\n",
            "\u001b[K     |████████████████████████████████| 2.6MB 44.5MB/s \n",
            "\u001b[?25hCollecting pyTelegramBotAPI<4.0.0,>=3.7.3\n",
            "\u001b[?25l  Downloading https://files.pythonhosted.org/packages/a8/71/4150c99fd31e3649b4c98594679de5bc4e8daea45be5203491cbb73fc485/pyTelegramBotAPI-3.7.7.tar.gz (83kB)\n",
            "\u001b[K     |████████████████████████████████| 92kB 8.3MB/s \n",
            "\u001b[?25hCollecting prompt-toolkit<3.0,>=2.0\n",
            "\u001b[?25l  Downloading https://files.pythonhosted.org/packages/87/61/2dfea88583d5454e3a64f9308a686071d58d59a55db638268a6413e1eb6d/prompt_toolkit-2.0.10-py3-none-any.whl (340kB)\n",
            "\u001b[K     |████████████████████████████████| 348kB 49.7MB/s \n",
            "\u001b[?25hCollecting kafka-python<3.0,>=1.4\n",
            "\u001b[?25l  Downloading https://files.pythonhosted.org/packages/75/68/dcb0db055309f680ab2931a3eeb22d865604b638acf8c914bedf4c1a0c8c/kafka_python-2.0.2-py2.py3-none-any.whl (246kB)\n",
            "\u001b[K     |████████████████████████████████| 256kB 47.0MB/s \n",
            "\u001b[?25hCollecting fbmessenger<6.1.0,>=6.0.0\n",
            "  Downloading https://files.pythonhosted.org/packages/bd/e9/646684226176782b9e3b7dd5b35d7ecfd1d13cba24ad2e33255079921aab/fbmessenger-6.0.0-py2.py3-none-any.whl\n",
            "Collecting questionary<1.6.0,>=1.5.1\n",
            "  Downloading https://files.pythonhosted.org/packages/05/7d/61b7d0da15bb50e7239c870771320026447b7e2d9490ee96f49dddd3ef0d/questionary-1.5.2-py3-none-any.whl\n",
            "Requirement already satisfied: python-dateutil<2.9,>=2.8 in /usr/local/lib/python3.7/dist-packages (from rasa) (2.8.1)\n",
            "Collecting tensorflow-estimator<2.4,>=2.3\n",
            "\u001b[?25l  Downloading https://files.pythonhosted.org/packages/e9/ed/5853ec0ae380cba4588eab1524e18ece1583b65f7ae0e97321f5ff9dfd60/tensorflow_estimator-2.3.0-py2.py3-none-any.whl (459kB)\n",
            "\u001b[K     |████████████████████████████████| 460kB 44.5MB/s \n",
            "\u001b[?25hCollecting python-socketio<6,>=4.4\n",
            "\u001b[?25l  Downloading https://files.pythonhosted.org/packages/8d/15/70ce203227a6c21931e0a1a04552887e8f08f7556459d65e901674f026fc/python_socketio-5.1.0-py2.py3-none-any.whl (53kB)\n",
            "\u001b[K     |████████████████████████████████| 61kB 6.1MB/s \n",
            "\u001b[?25hCollecting colorclass<2.3,>=2.2\n",
            "  Downloading https://files.pythonhosted.org/packages/37/ea/ae8dbb956939d4392e6a7fdef87fda273854da1128edae016c4104240be8/colorclass-2.2.0.tar.gz\n",
            "Collecting sanic-cors<0.11.0,>=0.10.0b1\n",
            "  Downloading https://files.pythonhosted.org/packages/2d/33/5e1776669aa62dd9c65e3513425077915acb1758d6b19f08f830f27ce9a8/Sanic_Cors-0.10.0.post3-py2.py3-none-any.whl\n",
            "Collecting mattermostwrapper<2.3,>=2.2\n",
            "  Downloading https://files.pythonhosted.org/packages/d7/fd/f1ce046ddaeffa5073f87d7800c27ad2c8e543e924a8418675c64aea6a14/mattermostwrapper-2.2.tar.gz\n",
            "Requirement already satisfied: matplotlib<3.4,>=3.1 in /usr/local/lib/python3.7/dist-packages (from rasa) (3.2.2)\n",
            "Collecting terminaltables<3.2.0,>=3.1.0\n",
            "  Downloading https://files.pythonhosted.org/packages/9b/c4/4a21174f32f8a7e1104798c445dacdc1d4df86f2f26722767034e4de4bff/terminaltables-3.1.0.tar.gz\n",
            "Collecting tensorflow_hub<0.11,>=0.10\n",
            "\u001b[?25l  Downloading https://files.pythonhosted.org/packages/a7/e6/1163df86cd14f066690cee9959bf6d92a0cc7bf25e0549b3ce05cd318617/tensorflow_hub-0.10.0-py2.py3-none-any.whl (107kB)\n",
            "\u001b[K     |████████████████████████████████| 112kB 37.8MB/s \n",
            "\u001b[?25hCollecting numpy<1.19,>=1.16\n",
            "\u001b[?25l  Downloading https://files.pythonhosted.org/packages/d6/c6/58e517e8b1fb192725cfa23c01c2e60e4e6699314ee9684a1c5f5c9b27e1/numpy-1.18.5-cp37-cp37m-manylinux1_x86_64.whl (20.1MB)\n",
            "\u001b[K     |████████████████████████████████| 20.1MB 48.4MB/s \n",
            "\u001b[?25hRequirement already satisfied: tqdm<4.60,>=4.31 in /usr/local/lib/python3.7/dist-packages (from rasa) (4.41.1)\n",
            "Requirement already satisfied: cloudpickle<1.7,>=1.2 in /usr/local/lib/python3.7/dist-packages (from rasa) (1.3.0)\n",
            "Requirement already satisfied: absl-py<0.13,>=0.9 in /usr/local/lib/python3.7/dist-packages (from rasa) (0.12.0)\n",
            "Requirement already satisfied: requests<3.0,>=2.23 in /usr/local/lib/python3.7/dist-packages (from rasa) (2.23.0)\n",
            "Collecting webexteamssdk<1.7.0,>=1.1.1\n",
            "\u001b[?25l  Downloading https://files.pythonhosted.org/packages/4d/27/20edad1a463bd709e90ccc6be12cd5ce5db7ebeda98084143902c226adda/webexteamssdk-1.6-py3-none-any.whl (113kB)\n",
            "\u001b[K     |████████████████████████████████| 122kB 46.7MB/s \n",
            "\u001b[?25hCollecting aiohttp<3.7,>=3.6\n",
            "\u001b[?25l  Downloading https://files.pythonhosted.org/packages/12/a2/ca3ba17c50ebeb3e7473330d8d1ce08fb83506a9bc985bcc0716354d2018/aiohttp-3.6.3-cp37-cp37m-manylinux1_x86_64.whl (1.2MB)\n",
            "\u001b[K     |████████████████████████████████| 1.2MB 41.0MB/s \n",
            "\u001b[?25hCollecting boto3<2.0,>=1.12\n",
            "\u001b[?25l  Downloading https://files.pythonhosted.org/packages/3f/2e/885bea97567ed610fda71ffb4f9ffc02715589277c6f480ef879dcbe9944/boto3-1.17.45-py2.py3-none-any.whl (131kB)\n",
            "\u001b[K     |████████████████████████████████| 133kB 48.8MB/s \n",
            "\u001b[?25hCollecting pydot<1.5,>=1.4\n",
            "  Downloading https://files.pythonhosted.org/packages/ea/76/75b1bb82e9bad3e3d656556eaa353d8cd17c4254393b08ec9786ac8ed273/pydot-1.4.2-py2.py3-none-any.whl\n",
            "Collecting tensorflow<2.4,>=2.3\n",
            "\u001b[?25l  Downloading https://files.pythonhosted.org/packages/1f/8c/9d150ce34e053432ad412d5627be7417764731e372b9b1746e198c0b8c81/tensorflow-2.3.2-cp37-cp37m-manylinux2010_x86_64.whl (320.4MB)\n",
            "\u001b[K     |████████████████████████████████| 320.4MB 41kB/s \n",
            "\u001b[?25hRequirement already satisfied: packaging<21.0,>=20.0 in /usr/local/lib/python3.7/dist-packages (from rasa) (20.9)\n",
            "Collecting SQLAlchemy<1.4.0,>=1.3.3\n",
            "\u001b[?25l  Downloading https://files.pythonhosted.org/packages/31/44/a86070dda790ce94cd7d9fb9281cd614c7d30850ed774ace9a84d0d5d491/SQLAlchemy-1.3.24-cp37-cp37m-manylinux2010_x86_64.whl (1.3MB)\n",
            "\u001b[K     |████████████████████████████████| 1.3MB 50.7MB/s \n",
            "\u001b[?25hCollecting rocketchat_API<1.16.0,>=0.6.31\n",
            "  Downloading https://files.pythonhosted.org/packages/5e/74/a3e6781d15e70f6c04ff968cc973dbfcdba447425b9747aeee189944ade8/rocketchat_API-1.15.0-py3-none-any.whl\n",
            "Requirement already satisfied: networkx<2.6,>=2.4 in /usr/local/lib/python3.7/dist-packages (from rasa) (2.5)\n",
            "Collecting psycopg2-binary<2.9.0,>=2.8.2\n",
            "\u001b[?25l  Downloading https://files.pythonhosted.org/packages/6d/45/c519a5cfac05e14b1ccb242138915855293199840598e087b935ba1d86bc/psycopg2_binary-2.8.6-cp37-cp37m-manylinux1_x86_64.whl (3.0MB)\n",
            "\u001b[K     |████████████████████████████████| 3.0MB 47.8MB/s \n",
            "\u001b[?25hCollecting regex<2020.10,>=2020.6\n",
            "\u001b[?25l  Downloading https://files.pythonhosted.org/packages/99/bf/c4f2ade22b5ef3c7e6a3c52bc188bdfe3abb4b0d935db3a1b26945747906/regex-2020.9.27-cp37-cp37m-manylinux2010_x86_64.whl (662kB)\n",
            "\u001b[K     |████████████████████████████████| 665kB 42.0MB/s \n",
            "\u001b[?25hCollecting jsonpickle<2.1,>=1.3\n",
            "  Downloading https://files.pythonhosted.org/packages/bb/1a/f2db026d4d682303793559f1c2bb425ba3ec0d6fd7ac63397790443f2461/jsonpickle-2.0.0-py2.py3-none-any.whl\n",
            "Collecting jsonschema<3.3,>=3.2\n",
            "\u001b[?25l  Downloading https://files.pythonhosted.org/packages/c5/8f/51e89ce52a085483359217bc72cdbf6e75ee595d5b1d4b5ade40c7e018b8/jsonschema-3.2.0-py2.py3-none-any.whl (56kB)\n",
            "\u001b[K     |████████████████████████████████| 61kB 6.6MB/s \n",
            "\u001b[?25hCollecting apscheduler<3.8,>=3.6\n",
            "\u001b[?25l  Downloading https://files.pythonhosted.org/packages/5d/e9/b5e4f7aaea076bbfb241b04824c63cd42fe8029358103c27375e690bddc0/APScheduler-3.7.0-py2.py3-none-any.whl (59kB)\n",
            "\u001b[K     |████████████████████████████████| 61kB 6.6MB/s \n",
            "\u001b[?25hRequirement already satisfied: scipy<2.0.0,>=1.4.1 in /usr/local/lib/python3.7/dist-packages (from rasa) (1.4.1)\n",
            "Collecting sklearn-crfsuite<0.4,>=0.3\n",
            "  Downloading https://files.pythonhosted.org/packages/25/74/5b7befa513482e6dee1f3dd68171a6c9dfc14c0eaa00f885ffeba54fe9b0/sklearn_crfsuite-0.3.6-py2.py3-none-any.whl\n",
            "Requirement already satisfied: scikit-learn<0.25,>=0.22 in /usr/local/lib/python3.7/dist-packages (from rasa) (0.22.2.post1)\n",
            "Collecting multidict<5.0,>=4.6\n",
            "\u001b[?25l  Downloading https://files.pythonhosted.org/packages/85/b8/a9fe777dab4c6aa067b516a34fe995213707e490ea1e72f823949a830a6a/multidict-4.7.6-cp37-cp37m-manylinux1_x86_64.whl (149kB)\n",
            "\u001b[K     |████████████████████████████████| 153kB 52.2MB/s \n",
            "\u001b[?25hRequirement already satisfied: six in /usr/local/lib/python3.7/dist-packages (from twilio<6.51,>=6.26->rasa) (1.15.0)\n",
            "Collecting dnspython<2.0.0,>=1.16.0; extra == \"srv\"\n",
            "\u001b[?25l  Downloading https://files.pythonhosted.org/packages/ec/d3/3aa0e7213ef72b8585747aa0e271a9523e713813b9a20177ebe1e939deb0/dnspython-1.16.0-py2.py3-none-any.whl (188kB)\n",
            "\u001b[K     |████████████████████████████████| 194kB 58.0MB/s \n",
            "\u001b[?25hRequirement already satisfied: gast>=0.3.2 in /usr/local/lib/python3.7/dist-packages (from tensorflow-probability<0.12,>=0.11->rasa) (0.3.3)\n",
            "Requirement already satisfied: decorator in /usr/local/lib/python3.7/dist-packages (from tensorflow-probability<0.12,>=0.11->rasa) (4.4.2)\n",
            "Requirement already satisfied: dm-tree in /usr/local/lib/python3.7/dist-packages (from tensorflow-probability<0.12,>=0.11->rasa) (0.1.5)\n",
            "Collecting cryptography<4.0.0,>=3.3.1; extra == \"crypto\"\n",
            "\u001b[?25l  Downloading https://files.pythonhosted.org/packages/b2/26/7af637e6a7e87258b963f1731c5982fb31cd507f0d90d91836e446955d02/cryptography-3.4.7-cp36-abi3-manylinux2014_x86_64.whl (3.2MB)\n",
            "\u001b[K     |████████████████████████████████| 3.2MB 40.9MB/s \n",
            "\u001b[?25hCollecting humanfriendly>=7.1\n",
            "\u001b[?25l  Downloading https://files.pythonhosted.org/packages/93/66/363d01a81da2108a5cf446daf619779f06d49a0c4426dd02b40734f10e2f/humanfriendly-9.1-py2.py3-none-any.whl (86kB)\n",
            "\u001b[K     |████████████████████████████████| 92kB 8.0MB/s \n",
            "\u001b[?25hRequirement already satisfied: docopt>=0.6.2 in /usr/local/lib/python3.7/dist-packages (from pykwalify<1.9,>=1.7->rasa) (0.6.2)\n",
            "Requirement already satisfied: urllib3>=1.10.0 in /usr/local/lib/python3.7/dist-packages (from sentry-sdk<0.20.0,>=0.17.0->rasa) (1.24.3)\n",
            "Requirement already satisfied: certifi in /usr/local/lib/python3.7/dist-packages (from sentry-sdk<0.20.0,>=0.17.0->rasa) (2020.12.5)\n",
            "Collecting aiormq<4,>=3.2.3\n",
            "  Downloading https://files.pythonhosted.org/packages/0b/c4/dc5b9d50c15af2ee187974a5a0c3f20c06cce6559eea4c065d372e846b6a/aiormq-3.3.1-py3-none-any.whl\n",
            "Collecting yarl\n",
            "\u001b[?25l  Downloading https://files.pythonhosted.org/packages/f1/62/046834c5fc998c88ab2ef722f5d42122230a632212c8afa76418324f53ff/yarl-1.6.3-cp37-cp37m-manylinux2014_x86_64.whl (294kB)\n",
            "\u001b[K     |████████████████████████████████| 296kB 58.5MB/s \n",
            "\u001b[?25hCollecting ruamel.yaml.clib>=0.1.2; platform_python_implementation == \"CPython\" and python_version < \"3.10\"\n",
            "\u001b[?25l  Downloading https://files.pythonhosted.org/packages/5e/6e/f652c56bbb2c3d3fca252ffc7c0358597f57a1bbdf484dac683054950c63/ruamel.yaml.clib-0.2.2-cp37-cp37m-manylinux1_x86_64.whl (547kB)\n",
            "\u001b[K     |████████████████████████████████| 552kB 36.3MB/s \n",
            "\u001b[?25hRequirement already satisfied: rsa>=3.1.4 in /usr/local/lib/python3.7/dist-packages (from oauth2client==4.1.3->rasa) (4.7.2)\n",
            "Requirement already satisfied: pyasn1>=0.1.7 in /usr/local/lib/python3.7/dist-packages (from oauth2client==4.1.3->rasa) (0.4.8)\n",
            "Requirement already satisfied: httplib2>=0.9.1 in /usr/local/lib/python3.7/dist-packages (from oauth2client==4.1.3->rasa) (0.17.4)\n",
            "Requirement already satisfied: pyasn1-modules>=0.0.5 in /usr/local/lib/python3.7/dist-packages (from oauth2client==4.1.3->rasa) (0.2.8)\n",
            "Collecting aiofiles>=0.6.0\n",
            "  Downloading https://files.pythonhosted.org/packages/ba/21/df5eae4b6db2eb00d58428dd7f793ecbf99942fcafcea141cbf108fa72f4/aiofiles-0.6.0-py3-none-any.whl\n",
            "Collecting httptools>=0.0.10\n",
            "\u001b[?25l  Downloading https://files.pythonhosted.org/packages/44/52/295101ea5a60f9bee805a3ca422863600ba5cac4e2778ac7bd56efab1231/httptools-0.1.1-cp37-cp37m-manylinux1_x86_64.whl (217kB)\n",
            "\u001b[K     |████████████████████████████████| 225kB 58.7MB/s \n",
            "\u001b[?25hCollecting httpx==0.15.4\n",
            "\u001b[?25l  Downloading https://files.pythonhosted.org/packages/b3/01/0b3a83352d75e3e57134abf5bef8fa3c64152e6107b5d57d510ad8d49a2a/httpx-0.15.4-py3-none-any.whl (65kB)\n",
            "\u001b[K     |████████████████████████████████| 71kB 7.4MB/s \n",
            "\u001b[?25hCollecting uvloop<0.15.0,>=0.5.3; sys_platform != \"win32\" and implementation_name == \"cpython\"\n",
            "\u001b[?25l  Downloading https://files.pythonhosted.org/packages/9b/7a/54a80c03b555af21680a2f3692947b43a0d576d90c4c18cace0fee1ccc0e/uvloop-0.14.0-cp37-cp37m-manylinux2010_x86_64.whl (3.8MB)\n",
            "\u001b[K     |████████████████████████████████| 3.8MB 48.8MB/s \n",
            "\u001b[?25hCollecting websockets<9.0,>=8.1\n",
            "\u001b[?25l  Downloading https://files.pythonhosted.org/packages/5a/0b/3ebc752392a368af14dd24ee041683416ac6d2463eead94b311b11e41c82/websockets-8.1-cp37-cp37m-manylinux2010_x86_64.whl (79kB)\n",
            "\u001b[K     |████████████████████████████████| 81kB 6.7MB/s \n",
            "\u001b[?25hRequirement already satisfied: typeguard>=2.7 in /usr/local/lib/python3.7/dist-packages (from tensorflow-addons<=0.12,>=0.10->rasa) (2.7.1)\n",
            "Requirement already satisfied: typing-extensions<4.0.0,>=3.7.4 in /usr/local/lib/python3.7/dist-packages (from rasa-sdk<3.0.0,>=2.4.0->rasa) (3.7.4.3)\n",
            "Requirement already satisfied: wcwidth in /usr/local/lib/python3.7/dist-packages (from prompt-toolkit<3.0,>=2.0->rasa) (0.2.5)\n",
            "Collecting bidict>=0.21.0\n",
            "  Downloading https://files.pythonhosted.org/packages/67/d4/eaf9242722bf991e0955380dd6168020cb15a71cc0d3cc2373f4911b1f1d/bidict-0.21.2-py2.py3-none-any.whl\n",
            "Collecting sanic-plugins-framework>=0.9.0\n",
            "  Downloading https://files.pythonhosted.org/packages/06/19/b8770ed083f405d00235080d697ad59adbfe92195e32cc649bbe0af5ab20/Sanic_Plugins_Framework-0.9.5-py2.py3-none-any.whl\n",
            "Requirement already satisfied: kiwisolver>=1.0.1 in /usr/local/lib/python3.7/dist-packages (from matplotlib<3.4,>=3.1->rasa) (1.3.1)\n",
            "Requirement already satisfied: pyparsing!=2.0.4,!=2.1.2,!=2.1.6,>=2.0.1 in /usr/local/lib/python3.7/dist-packages (from matplotlib<3.4,>=3.1->rasa) (2.4.7)\n",
            "Requirement already satisfied: cycler>=0.10 in /usr/local/lib/python3.7/dist-packages (from matplotlib<3.4,>=3.1->rasa) (0.10.0)\n",
            "Requirement already satisfied: protobuf>=3.8.0 in /usr/local/lib/python3.7/dist-packages (from tensorflow_hub<0.11,>=0.10->rasa) (3.12.4)\n",
            "Requirement already satisfied: idna<3,>=2.5 in /usr/local/lib/python3.7/dist-packages (from requests<3.0,>=2.23->rasa) (2.10)\n",
            "Requirement already satisfied: chardet<4,>=3.0.2 in /usr/local/lib/python3.7/dist-packages (from requests<3.0,>=2.23->rasa) (3.0.4)\n",
            "Requirement already satisfied: future in /usr/local/lib/python3.7/dist-packages (from webexteamssdk<1.7.0,>=1.1.1->rasa) (0.16.0)\n",
            "Collecting requests-toolbelt\n",
            "\u001b[?25l  Downloading https://files.pythonhosted.org/packages/60/ef/7681134338fc097acef8d9b2f8abe0458e4d87559c689a8c306d0957ece5/requests_toolbelt-0.9.1-py2.py3-none-any.whl (54kB)\n",
            "\u001b[K     |████████████████████████████████| 61kB 6.3MB/s \n",
            "\u001b[?25hCollecting async-timeout<4.0,>=3.0\n",
            "  Downloading https://files.pythonhosted.org/packages/e1/1e/5a4441be21b0726c4464f3f23c8b19628372f606755a9d2e46c187e65ec4/async_timeout-3.0.1-py3-none-any.whl\n",
            "Collecting s3transfer<0.4.0,>=0.3.0\n",
            "\u001b[?25l  Downloading https://files.pythonhosted.org/packages/98/14/0b4be62b65c52d6d1c442f24e02d2a9889a73d3c352002e14c70f84a679f/s3transfer-0.3.6-py2.py3-none-any.whl (73kB)\n",
            "\u001b[K     |████████████████████████████████| 81kB 8.2MB/s \n",
            "\u001b[?25hCollecting botocore<1.21.0,>=1.20.45\n",
            "\u001b[?25l  Downloading https://files.pythonhosted.org/packages/3d/d7/efd70bd8a4a4916b8e3b3fe1d5b43bc53d8e43403b1b8beb0747c96e7e75/botocore-1.20.45-py2.py3-none-any.whl (7.4MB)\n",
            "\u001b[K     |████████████████████████████████| 7.4MB 30.2MB/s \n",
            "\u001b[?25hCollecting jmespath<1.0.0,>=0.7.1\n",
            "  Downloading https://files.pythonhosted.org/packages/07/cb/5f001272b6faeb23c1c9e0acc04d48eaaf5c862c17709d20e3469c6e0139/jmespath-0.10.0-py2.py3-none-any.whl\n",
            "Requirement already satisfied: h5py<2.11.0,>=2.10.0 in /usr/local/lib/python3.7/dist-packages (from tensorflow<2.4,>=2.3->rasa) (2.10.0)\n",
            "Requirement already satisfied: grpcio>=1.8.6 in /usr/local/lib/python3.7/dist-packages (from tensorflow<2.4,>=2.3->rasa) (1.32.0)\n",
            "Requirement already satisfied: tensorboard<3,>=2.3.0 in /usr/local/lib/python3.7/dist-packages (from tensorflow<2.4,>=2.3->rasa) (2.4.1)\n",
            "Requirement already satisfied: astunparse==1.6.3 in /usr/local/lib/python3.7/dist-packages (from tensorflow<2.4,>=2.3->rasa) (1.6.3)\n",
            "Requirement already satisfied: wheel>=0.26 in /usr/local/lib/python3.7/dist-packages (from tensorflow<2.4,>=2.3->rasa) (0.36.2)\n",
            "Requirement already satisfied: google-pasta>=0.1.8 in /usr/local/lib/python3.7/dist-packages (from tensorflow<2.4,>=2.3->rasa) (0.2.0)\n",
            "Requirement already satisfied: wrapt>=1.11.1 in /usr/local/lib/python3.7/dist-packages (from tensorflow<2.4,>=2.3->rasa) (1.12.1)\n",
            "Requirement already satisfied: keras-preprocessing<1.2,>=1.1.1 in /usr/local/lib/python3.7/dist-packages (from tensorflow<2.4,>=2.3->rasa) (1.1.2)\n",
            "Requirement already satisfied: opt-einsum>=2.3.2 in /usr/local/lib/python3.7/dist-packages (from tensorflow<2.4,>=2.3->rasa) (3.3.0)\n",
            "Requirement already satisfied: termcolor>=1.1.0 in /usr/local/lib/python3.7/dist-packages (from tensorflow<2.4,>=2.3->rasa) (1.1.0)\n",
            "Requirement already satisfied: importlib-metadata; python_version < \"3.8\" in /usr/local/lib/python3.7/dist-packages (from jsonpickle<2.1,>=1.3->rasa) (3.8.1)\n",
            "Requirement already satisfied: pyrsistent>=0.14.0 in /usr/local/lib/python3.7/dist-packages (from jsonschema<3.3,>=3.2->rasa) (0.17.3)\n",
            "Collecting tzlocal~=2.0\n",
            "  Downloading https://files.pythonhosted.org/packages/5d/94/d47b0fd5988e6b7059de05720a646a2930920fff247a826f61674d436ba4/tzlocal-2.1-py2.py3-none-any.whl\n",
            "Collecting python-crfsuite>=0.8.3\n",
            "\u001b[?25l  Downloading https://files.pythonhosted.org/packages/79/47/58f16c46506139f17de4630dbcfb877ce41a6355a1bbf3c443edb9708429/python_crfsuite-0.9.7-cp37-cp37m-manylinux1_x86_64.whl (743kB)\n",
            "\u001b[K     |████████████████████████████████| 747kB 48.1MB/s \n",
            "\u001b[?25hRequirement already satisfied: tabulate in /usr/local/lib/python3.7/dist-packages (from sklearn-crfsuite<0.4,>=0.3->rasa) (0.8.9)\n",
            "Requirement already satisfied: cffi>=1.12 in /usr/local/lib/python3.7/dist-packages (from cryptography<4.0.0,>=3.3.1; extra == \"crypto\"->PyJWT[crypto]<3.0.0,>=2.0.0->rasa) (1.14.5)\n",
            "Collecting pamqp==2.3.0\n",
            "  Downloading https://files.pythonhosted.org/packages/eb/56/afa06143361e640c9159d828dadc95fc9195c52c95b4a97d136617b0166d/pamqp-2.3.0-py2.py3-none-any.whl\n",
            "Collecting httpcore==0.11.*\n",
            "\u001b[?25l  Downloading https://files.pythonhosted.org/packages/d8/e7/f25e08617b4be99d38e4ef6c4d1b744bf065b9c93156ecd691d95897e0e4/httpcore-0.11.1-py3-none-any.whl (52kB)\n",
            "\u001b[K     |████████████████████████████████| 61kB 6.5MB/s \n",
            "\u001b[?25hCollecting sniffio\n",
            "  Downloading https://files.pythonhosted.org/packages/52/b0/7b2e028b63d092804b6794595871f936aafa5e9322dcaaad50ebf67445b3/sniffio-1.2.0-py3-none-any.whl\n",
            "Collecting rfc3986[idna2008]<2,>=1.3\n",
            "  Downloading https://files.pythonhosted.org/packages/78/be/7b8b99fd74ff5684225f50dd0e865393d2265656ef3b4ba9eaaaffe622b8/rfc3986-1.4.0-py2.py3-none-any.whl\n",
            "Requirement already satisfied: werkzeug>=0.11.15 in /usr/local/lib/python3.7/dist-packages (from tensorboard<3,>=2.3.0->tensorflow<2.4,>=2.3->rasa) (1.0.1)\n",
            "Requirement already satisfied: google-auth<2,>=1.6.3 in /usr/local/lib/python3.7/dist-packages (from tensorboard<3,>=2.3.0->tensorflow<2.4,>=2.3->rasa) (1.28.0)\n",
            "Requirement already satisfied: markdown>=2.6.8 in /usr/local/lib/python3.7/dist-packages (from tensorboard<3,>=2.3.0->tensorflow<2.4,>=2.3->rasa) (3.3.4)\n",
            "Requirement already satisfied: tensorboard-plugin-wit>=1.6.0 in /usr/local/lib/python3.7/dist-packages (from tensorboard<3,>=2.3.0->tensorflow<2.4,>=2.3->rasa) (1.8.0)\n",
            "Requirement already satisfied: google-auth-oauthlib<0.5,>=0.4.1 in /usr/local/lib/python3.7/dist-packages (from tensorboard<3,>=2.3.0->tensorflow<2.4,>=2.3->rasa) (0.4.3)\n",
            "Requirement already satisfied: zipp>=0.5 in /usr/local/lib/python3.7/dist-packages (from importlib-metadata; python_version < \"3.8\"->jsonpickle<2.1,>=1.3->rasa) (3.4.1)\n",
            "Requirement already satisfied: pycparser in /usr/local/lib/python3.7/dist-packages (from cffi>=1.12->cryptography<4.0.0,>=3.3.1; extra == \"crypto\"->PyJWT[crypto]<3.0.0,>=2.0.0->rasa) (2.20)\n",
            "Collecting h11<0.10,>=0.8\n",
            "\u001b[?25l  Downloading https://files.pythonhosted.org/packages/5a/fd/3dad730b0f95e78aeeb742f96fa7bbecbdd56a58e405d3da440d5bfb90c6/h11-0.9.0-py2.py3-none-any.whl (53kB)\n",
            "\u001b[K     |████████████████████████████████| 61kB 6.6MB/s \n",
            "\u001b[?25hRequirement already satisfied: cachetools<5.0,>=2.0.0 in /usr/local/lib/python3.7/dist-packages (from google-auth<2,>=1.6.3->tensorboard<3,>=2.3.0->tensorflow<2.4,>=2.3->rasa) (4.2.1)\n",
            "Requirement already satisfied: requests-oauthlib>=0.7.0 in /usr/local/lib/python3.7/dist-packages (from google-auth-oauthlib<0.5,>=0.4.1->tensorboard<3,>=2.3.0->tensorflow<2.4,>=2.3->rasa) (1.3.0)\n",
            "Requirement already satisfied: oauthlib>=3.0.0 in /usr/local/lib/python3.7/dist-packages (from requests-oauthlib>=0.7.0->google-auth-oauthlib<0.5,>=0.4.1->tensorboard<3,>=2.3.0->tensorflow<2.4,>=2.3->rasa) (3.1.0)\n",
            "Building wheels for collected packages: twilio, sanic-jwt, pyTelegramBotAPI, colorclass, mattermostwrapper, terminaltables\n",
            "  Building wheel for twilio (setup.py) ... \u001b[?25l\u001b[?25hdone\n",
            "  Created wheel for twilio: filename=twilio-6.50.1-py2.py3-none-any.whl size=1208685 sha256=cc1157bcefeacbcde615aa4c7bc77c6101398aa496534f00577b8f4454218832\n",
            "  Stored in directory: /root/.cache/pip/wheels/17/10/6c/1b04371d399b059dcea195e00729e096fd959e1e35b0e7c8a2\n",
            "  Building wheel for sanic-jwt (setup.py) ... \u001b[?25l\u001b[?25hdone\n",
            "  Created wheel for sanic-jwt: filename=sanic_jwt-1.6.0-cp37-none-any.whl size=21957 sha256=4c4a11046887124a6b23933f1fad11c7770c09911afe836c97d67e2517c4f103\n",
            "  Stored in directory: /root/.cache/pip/wheels/2b/6d/e2/6b4b2a376e61d0434cc1b1a5b30eb66f08b053b1e59cd29171\n",
            "  Building wheel for pyTelegramBotAPI (setup.py) ... \u001b[?25l\u001b[?25hdone\n",
            "  Created wheel for pyTelegramBotAPI: filename=pyTelegramBotAPI-3.7.7-cp37-none-any.whl size=60362 sha256=bf598c1a15a49b06d556638b8a2c496e60014d7fed558f72633522ac31c9914c\n",
            "  Stored in directory: /root/.cache/pip/wheels/c8/4d/74/96a36189c5782d9b269404d40c2972f8751b9c27f03a0bc466\n",
            "  Building wheel for colorclass (setup.py) ... \u001b[?25l\u001b[?25hdone\n",
            "  Created wheel for colorclass: filename=colorclass-2.2.0-cp37-none-any.whl size=19396 sha256=bbfbf91bb0d5b562e8846402871c55752df3891aeee0f17c26adc0073b2d9fd6\n",
            "  Stored in directory: /root/.cache/pip/wheels/d1/86/9d/16127127306a92d7fd30267890a5634026c045391979c4c317\n",
            "  Building wheel for mattermostwrapper (setup.py) ... \u001b[?25l\u001b[?25hdone\n",
            "  Created wheel for mattermostwrapper: filename=mattermostwrapper-2.2-cp37-none-any.whl size=2467 sha256=9299b29fa490f91c3b1eb58b1840aed728ba9e6caaf64d96666f9c11b4b2948a\n",
            "  Stored in directory: /root/.cache/pip/wheels/c5/47/19/47188b3036316651250c4f7df23d59a3b524c82921bfb6daa3\n",
            "  Building wheel for terminaltables (setup.py) ... \u001b[?25l\u001b[?25hdone\n",
            "  Created wheel for terminaltables: filename=terminaltables-3.1.0-cp37-none-any.whl size=15356 sha256=cc75778837506212a5d2ea62a87047e3496aff19b549da160b0bd6dc7d924309\n",
            "  Stored in directory: /root/.cache/pip/wheels/30/6b/50/6c75775b681fb36cdfac7f19799888ef9d8813aff9e379663e\n",
            "Successfully built twilio sanic-jwt pyTelegramBotAPI colorclass mattermostwrapper terminaltables\n",
            "\u001b[31mERROR: nbclient 0.5.3 has requirement jupyter-client>=6.1.5, but you'll have jupyter-client 5.3.5 which is incompatible.\u001b[0m\n",
            "\u001b[31mERROR: jupyter-console 5.2.0 has requirement prompt-toolkit<2.0.0,>=1.0.0, but you'll have prompt-toolkit 2.0.10 which is incompatible.\u001b[0m\n",
            "\u001b[31mERROR: ipython 5.5.0 has requirement prompt-toolkit<2.0.0,>=1.0.4, but you'll have prompt-toolkit 2.0.10 which is incompatible.\u001b[0m\n",
            "\u001b[31mERROR: datascience 0.10.6 has requirement folium==0.2.1, but you'll have folium 0.8.3 which is incompatible.\u001b[0m\n",
            "\u001b[31mERROR: albumentations 0.1.12 has requirement imgaug<0.2.7,>=0.2.5, but you'll have imgaug 0.2.9 which is incompatible.\u001b[0m\n",
            "\u001b[31mERROR: aiohttp 3.6.3 has requirement yarl<1.6.0,>=1.0, but you'll have yarl 1.6.3 which is incompatible.\u001b[0m\n",
            "\u001b[31mERROR: sanic 20.12.3 has requirement multidict<6.0,>=5.0, but you'll have multidict 4.7.6 which is incompatible.\u001b[0m\n",
            "\u001b[31mERROR: sanic-jwt 1.6.0 has requirement pyjwt==2.0.0, but you'll have pyjwt 2.0.1 which is incompatible.\u001b[0m\n",
            "\u001b[31mERROR: python-socketio 5.1.0 has requirement python-engineio>=4, but you'll have python-engineio 3.13.2 which is incompatible.\u001b[0m\n",
            "\u001b[31mERROR: botocore 1.20.45 has requirement urllib3<1.27,>=1.25.4, but you'll have urllib3 1.24.3 which is incompatible.\u001b[0m\n",
            "Installing collected packages: pytz, cryptography, PyJWT, twilio, dnspython, pymongo, numpy, tensorflow-probability, humanfriendly, coloredlogs, joblib, ruamel.yaml.clib, ruamel.yaml, pykwalify, sentry-sdk, pamqp, multidict, yarl, aiormq, aio-pika, async-timeout, aiohttp, slackclient, redis, aiofiles, ujson, httptools, h11, sniffio, httpcore, rfc3986, httpx, uvloop, websockets, sanic, tensorflow-addons, python-engineio, sanic-jwt, sanic-plugins-framework, sanic-cors, rasa-sdk, colorhash, tensorflow-estimator, tensorflow, tensorflow-text, pyTelegramBotAPI, prompt-toolkit, kafka-python, fbmessenger, questionary, bidict, python-socketio, colorclass, mattermostwrapper, terminaltables, tensorflow-hub, requests-toolbelt, webexteamssdk, jmespath, botocore, s3transfer, boto3, pydot, SQLAlchemy, rocketchat-API, psycopg2-binary, regex, jsonpickle, jsonschema, tzlocal, apscheduler, python-crfsuite, sklearn-crfsuite, rasa\n",
            "  Found existing installation: pytz 2018.9\n",
            "    Uninstalling pytz-2018.9:\n",
            "      Successfully uninstalled pytz-2018.9\n",
            "  Found existing installation: pymongo 3.11.3\n",
            "    Uninstalling pymongo-3.11.3:\n",
            "      Successfully uninstalled pymongo-3.11.3\n",
            "  Found existing installation: numpy 1.19.5\n",
            "    Uninstalling numpy-1.19.5:\n",
            "      Successfully uninstalled numpy-1.19.5\n",
            "  Found existing installation: tensorflow-probability 0.12.1\n",
            "    Uninstalling tensorflow-probability-0.12.1:\n",
            "      Successfully uninstalled tensorflow-probability-0.12.1\n",
            "  Found existing installation: joblib 1.0.1\n",
            "    Uninstalling joblib-1.0.1:\n",
            "      Successfully uninstalled joblib-1.0.1\n",
            "  Found existing installation: tensorflow-estimator 2.4.0\n",
            "    Uninstalling tensorflow-estimator-2.4.0:\n",
            "      Successfully uninstalled tensorflow-estimator-2.4.0\n",
            "  Found existing installation: tensorflow 2.4.1\n",
            "    Uninstalling tensorflow-2.4.1:\n",
            "      Successfully uninstalled tensorflow-2.4.1\n",
            "  Found existing installation: prompt-toolkit 1.0.18\n",
            "    Uninstalling prompt-toolkit-1.0.18:\n",
            "      Successfully uninstalled prompt-toolkit-1.0.18\n",
            "  Found existing installation: tensorflow-hub 0.11.0\n",
            "    Uninstalling tensorflow-hub-0.11.0:\n",
            "      Successfully uninstalled tensorflow-hub-0.11.0\n",
            "  Found existing installation: pydot 1.3.0\n",
            "    Uninstalling pydot-1.3.0:\n",
            "      Successfully uninstalled pydot-1.3.0\n",
            "  Found existing installation: SQLAlchemy 1.4.3\n",
            "    Uninstalling SQLAlchemy-1.4.3:\n",
            "      Successfully uninstalled SQLAlchemy-1.4.3\n",
            "  Found existing installation: regex 2019.12.20\n",
            "    Uninstalling regex-2019.12.20:\n",
            "      Successfully uninstalled regex-2019.12.20\n",
            "  Found existing installation: jsonschema 2.6.0\n",
            "    Uninstalling jsonschema-2.6.0:\n",
            "      Successfully uninstalled jsonschema-2.6.0\n",
            "  Found existing installation: tzlocal 1.5.1\n",
            "    Uninstalling tzlocal-1.5.1:\n",
            "      Successfully uninstalled tzlocal-1.5.1\n",
            "Successfully installed PyJWT-2.0.1 SQLAlchemy-1.3.24 aio-pika-6.8.0 aiofiles-0.6.0 aiohttp-3.6.3 aiormq-3.3.1 apscheduler-3.7.0 async-timeout-3.0.1 bidict-0.21.2 boto3-1.17.45 botocore-1.20.45 colorclass-2.2.0 coloredlogs-14.3 colorhash-1.0.3 cryptography-3.4.7 dnspython-1.16.0 fbmessenger-6.0.0 h11-0.9.0 httpcore-0.11.1 httptools-0.1.1 httpx-0.15.4 humanfriendly-9.1 jmespath-0.10.0 joblib-0.15.1 jsonpickle-2.0.0 jsonschema-3.2.0 kafka-python-2.0.2 mattermostwrapper-2.2 multidict-4.7.6 numpy-1.18.5 pamqp-2.3.0 prompt-toolkit-2.0.10 psycopg2-binary-2.8.6 pyTelegramBotAPI-3.7.7 pydot-1.4.2 pykwalify-1.8.0 pymongo-3.10.1 python-crfsuite-0.9.7 python-engineio-3.13.2 python-socketio-5.1.0 pytz-2020.5 questionary-1.5.2 rasa-2.4.3 rasa-sdk-2.4.1 redis-3.5.3 regex-2020.9.27 requests-toolbelt-0.9.1 rfc3986-1.4.0 rocketchat-API-1.15.0 ruamel.yaml-0.16.13 ruamel.yaml.clib-0.2.2 s3transfer-0.3.6 sanic-20.12.3 sanic-cors-0.10.0.post3 sanic-jwt-1.6.0 sanic-plugins-framework-0.9.5 sentry-sdk-0.19.5 sklearn-crfsuite-0.3.6 slackclient-2.9.3 sniffio-1.2.0 tensorflow-2.3.2 tensorflow-addons-0.12.0 tensorflow-estimator-2.3.0 tensorflow-hub-0.10.0 tensorflow-probability-0.11.1 tensorflow-text-2.3.0 terminaltables-3.1.0 twilio-6.50.1 tzlocal-2.1 ujson-4.0.2 uvloop-0.14.0 webexteamssdk-1.6 websockets-8.1 yarl-1.6.3\n"
          ],
          "name": "stdout"
        },
        {
          "output_type": "display_data",
          "data": {
            "application/vnd.colab-display-data+json": {
              "pip_warning": {
                "packages": [
                  "joblib",
                  "numpy",
                  "prompt_toolkit",
                  "pytz",
                  "regex"
                ]
              }
            }
          },
          "metadata": {
            "tags": []
          }
        }
      ]
    }
  ]
}